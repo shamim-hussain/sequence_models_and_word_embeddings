{
  "nbformat": 4,
  "nbformat_minor": 0,
  "metadata": {
    "colab": {
      "name": "sequence_models_and_word_embeddings",
      "provenance": [],
      "collapsed_sections": [
        "6vqP_7KEd_7P"
      ],
      "toc_visible": true,
      "mount_file_id": "16nqQY6dpgjQke_tCyOBkUC7RzaQcF95Z",
      "authorship_tag": "ABX9TyMck2+rDV75Xu86plffaYmz",
      "include_colab_link": true
    },
    "kernelspec": {
      "name": "python3",
      "display_name": "Python 3"
    },
    "language_info": {
      "name": "python"
    },
    "accelerator": "GPU"
  },
  "cells": [
    {
      "cell_type": "markdown",
      "metadata": {
        "id": "view-in-github",
        "colab_type": "text"
      },
      "source": [
        "<a href=\"https://colab.research.google.com/github/shamim-hussain/sequence_models_and_word_embeddings/blob/main/sequence_models_and_word_embeddings.ipynb\" target=\"_parent\"><img src=\"https://colab.research.google.com/assets/colab-badge.svg\" alt=\"Open In Colab\"/></a>"
      ]
    },
    {
      "cell_type": "markdown",
      "metadata": {
        "id": "enQ1wb5HcMn8"
      },
      "source": [
        "# Task 1"
      ]
    },
    {
      "cell_type": "markdown",
      "metadata": {
        "id": "Ftl96J1vcR7S"
      },
      "source": [
        "## Targeted Task\n",
        "\n",
        "We will perform sentiment analysis on the **IMDB movie reviews dataset**. It is a dataset of 50000 (text) reviews which are categorized as either positive or negative depending on the review scores. The link to the dataset:\n",
        "\n",
        "https://ai.stanford.edu/~amaas/data/sentiment/\n",
        "\n",
        "This problem is appropriate for sequence modeling because the sequence in which the words appear in the text is important to properly represent their meaning. So we will apply a Recurrent Neural Network on the word embeddings in the text in a sequential manner and the classification will be performed based on the final output of the RNN, which should represent the overall sentiment expressed within the text.\n",
        "\n",
        "We will use **Tensorflow** with the **Keras** high level framework to implement our model. We will also use the pretrained GloVe word embeddings to initialize our input word embeddings in order to get better classification results via transfer learning."
      ]
    },
    {
      "cell_type": "markdown",
      "metadata": {
        "id": "6vqP_7KEd_7P"
      },
      "source": [
        "## Preprocessing"
      ]
    },
    {
      "cell_type": "markdown",
      "metadata": {
        "id": "wHvgnuE3eFF3"
      },
      "source": [
        "### Download and read text"
      ]
    },
    {
      "cell_type": "markdown",
      "metadata": {
        "id": "1Rqtip9reTV3"
      },
      "source": [
        "First we will download and extract the dataset.\n"
      ]
    },
    {
      "cell_type": "code",
      "metadata": {
        "id": "Vla8VzOd2uzS"
      },
      "source": [
        "!wget https://ai.stanford.edu/~amaas/data/sentiment/aclImdb_v1.tar.gz\n",
        "!tar -xvf aclImdb_v1.tar.gz"
      ],
      "execution_count": null,
      "outputs": []
    },
    {
      "cell_type": "markdown",
      "metadata": {
        "id": "jg7Jy3GMeWPv"
      },
      "source": [
        "Next we will read the text review files, both positive and negative."
      ]
    },
    {
      "cell_type": "code",
      "metadata": {
        "colab": {
          "base_uri": "https://localhost:8080/"
        },
        "id": "RdpVfVIpv9hT",
        "outputId": "921c3368-6521-418b-bea1-0ad2e0cf5773"
      },
      "source": [
        "from pathlib import Path\n",
        "\n",
        "base_path = Path('aclImdb')\n",
        "\n",
        "train_pos_txt = list(f.read_text(encoding=\"utf-8\") for f in (base_path/'train'/'pos').glob('*.txt'))\n",
        "train_neg_txt = list(f.read_text(encoding=\"utf-8\") for f in (base_path/'train'/'neg').glob('*.txt'))\n",
        "test_pos_txt = list(f.read_text(encoding=\"utf-8\") for f in (base_path/'test'/'pos').glob('*.txt'))\n",
        "test_neg_txt = list(f.read_text(encoding=\"utf-8\") for f in (base_path/'test'/'neg').glob('*.txt'))\n",
        "\n",
        "print('Positive sample 0:')\n",
        "print(train_pos_txt[0])\n",
        "print()\n",
        "print('Negative sample 0:')\n",
        "print(train_neg_txt[0])"
      ],
      "execution_count": 1,
      "outputs": [
        {
          "output_type": "stream",
          "name": "stdout",
          "text": [
            "Positive sample 0:\n",
            "Bromwell High is a cartoon comedy. It ran at the same time as some other programs about school life, such as \"Teachers\". My 35 years in the teaching profession lead me to believe that Bromwell High's satire is much closer to reality than is \"Teachers\". The scramble to survive financially, the insightful students who can see right through their pathetic teachers' pomp, the pettiness of the whole situation, all remind me of the schools I knew and their students. When I saw the episode in which a student repeatedly tried to burn down the school, I immediately recalled ......... at .......... High. A classic line: INSPECTOR: I'm here to sack one of your teachers. STUDENT: Welcome to Bromwell High. I expect that many adults of my age think that Bromwell High is far fetched. What a pity that it isn't!\n",
            "\n",
            "Negative sample 0:\n",
            "Story of a man who has unnatural feelings for a pig. Starts out with a opening scene that is a terrific example of absurd comedy. A formal orchestra audience is turned into an insane, violent mob by the crazy chantings of it's singers. Unfortunately it stays absurd the WHOLE time with no general narrative eventually making it just too off putting. Even those from the era should be turned off. The cryptic dialogue would make Shakespeare seem easy to a third grader. On a technical level it's better than you might think with some good cinematography by future great Vilmos Zsigmond. Future stars Sally Kirkland and Frederic Forrest can be seen briefly.\n"
          ]
        }
      ]
    },
    {
      "cell_type": "markdown",
      "metadata": {
        "id": "MNxCJfPPej_f"
      },
      "source": [
        "Let us combine the positive and negative reviews and add corresponding labels to them (1: positive, 0:negative)."
      ]
    },
    {
      "cell_type": "code",
      "metadata": {
        "id": "j8SnnBMNhVXs"
      },
      "source": [
        "import numpy as np\n",
        "\n",
        "X_train_txt = train_pos_txt + train_neg_txt\n",
        "Y_train = np.array([1] * len(train_pos_txt) + [0] * len(train_neg_txt))\n",
        "\n",
        "X_test_txt = test_pos_txt + test_neg_txt\n",
        "Y_test = np.array([1] * len(test_pos_txt) + [0] * len(test_neg_txt))"
      ],
      "execution_count": 2,
      "outputs": []
    },
    {
      "cell_type": "markdown",
      "metadata": {
        "id": "4SHFBLg-eyun"
      },
      "source": [
        "### Lemmatization and Tokenization"
      ]
    },
    {
      "cell_type": "markdown",
      "metadata": {
        "id": "yImlvaCufJnX"
      },
      "source": [
        "We cannot train our model with the raw text. First we will separate the tokens and optionally lemmatize them. Lemmatization will reduce each word to their base form and thus allow for a smaller vocabulary. This will save resources and also possibly prevent overfitting.\n",
        "\n",
        "We will use the SpaCy library for lemmatization."
      ]
    },
    {
      "cell_type": "code",
      "metadata": {
        "id": "ad_5BgurfVRk"
      },
      "source": [
        "!python -m spacy download en_core_web_sm\n",
        "\n",
        "import spacy\n",
        "import re\n",
        "nlp = spacy.load('en_core_web_sm')\n",
        "clean_regex = re.compile('<.*?>')  # To remove tags such as <br/></br> \n",
        "\n",
        "def text_data_cleaning(sentence):\n",
        "    sentence = re.sub(clean_regex, ' ', sentence)\n",
        "    doc = nlp(sentence)\n",
        "    \n",
        "    tokens = []\n",
        "    for token in doc:\n",
        "        if token.lemma_ != \"-PRON-\":\n",
        "            temp = token.lemma_.lower().strip()\n",
        "        else:\n",
        "            temp = token.lower_\n",
        "        tokens.append(temp)\n",
        "    return tokens\n"
      ],
      "execution_count": null,
      "outputs": []
    },
    {
      "cell_type": "markdown",
      "metadata": {
        "id": "Kml70Ud5f3JF"
      },
      "source": [
        "Let us look at the a sample lemmatized text."
      ]
    },
    {
      "cell_type": "code",
      "metadata": {
        "id": "Fnxhqd0tw4Gn"
      },
      "source": [
        "print('Original:')\n",
        "print(X_train_txt[0])\n",
        "print('Tokenized and lemmatized:')\n",
        "print(text_data_cleaning(X_train_txt[0]))"
      ],
      "execution_count": null,
      "outputs": []
    },
    {
      "cell_type": "markdown",
      "metadata": {
        "id": "LhCry4SzgXs1"
      },
      "source": [
        "We see that the basic sense of the text is still conveyed by the lemmatized tokens.\n",
        "\n",
        "Now we will tokenize and lemmatize the whole dataset."
      ]
    },
    {
      "cell_type": "code",
      "metadata": {
        "id": "-ciHqQ1Ljs1d"
      },
      "source": [
        "import numpy as np\n",
        "from tqdm import tqdm\n",
        "\n",
        "try:\n",
        "    data = np.load('imdb.npz',allow_pickle=True)\n",
        "    X_train_tokens = data['X_train_tokens']\n",
        "    X_test_tokens = data['X_test_tokens']\n",
        "    data.close()\n",
        "except FileNotFoundError:\n",
        "    X_train_tokens = []\n",
        "    for sample in tqdm(X_train_txt, desc='Processing training files'):\n",
        "        X_train_tokens.append(text_data_cleaning(sample))\n",
        "\n",
        "    X_test_tokens = []\n",
        "    for sample in tqdm(X_test_txt, desc='Processing test files'):\n",
        "        X_test_tokens.append(text_data_cleaning(sample))\n",
        "\n",
        "    X_train_tokens=np.array(X_train_tokens, dtype=object)\n",
        "    X_test_tokens=np.array(X_test_tokens, dtype=object)\n",
        "\n",
        "    np.savez('imdb.npz', \n",
        "             X_train_tokens = X_train_tokens,\n",
        "             Y_train = Y_train,\n",
        "             X_test_tokens = X_test_tokens,\n",
        "             Y_test = Y_test)"
      ],
      "execution_count": 4,
      "outputs": []
    },
    {
      "cell_type": "markdown",
      "metadata": {
        "id": "e7oLOFSKg9hN"
      },
      "source": [
        "## Building vocabulary and conversion into sequences"
      ]
    },
    {
      "cell_type": "markdown",
      "metadata": {
        "id": "GF-5DXvtih7j"
      },
      "source": [
        "We will limit our vocabulary to 2000 most frequent tokens. Also we will truncate and pad the sequences so that they have a uniform length of 512 tokens. The padded parts (with a value of 0) will be masked and the model will effectively ignore these parts."
      ]
    },
    {
      "cell_type": "code",
      "metadata": {
        "id": "QBVh2Ct68_7y"
      },
      "source": [
        "from tensorflow.keras.preprocessing.text import Tokenizer\n",
        "from tensorflow.keras.preprocessing.sequence import pad_sequences\n",
        "\n",
        "vocab_size = 2000\n",
        "max_len = 512\n",
        "\n",
        "tokenizer = Tokenizer(num_words=vocab_size, oov_token='<oov>')\n",
        "tokenizer.fit_on_texts(X_train_tokens)\n",
        "\n",
        "X_train = tokenizer.texts_to_sequences(X_train_tokens)\n",
        "X_test = tokenizer.texts_to_sequences(X_test_tokens)\n",
        "\n",
        "X_train = pad_sequences(X_train, maxlen=max_len, dtype='int32', padding='post',\n",
        "                        truncating='post', value=0)\n",
        "X_test = pad_sequences(X_test, maxlen=max_len, dtype='int32', padding='post',\n",
        "                        truncating='post', value=0)"
      ],
      "execution_count": 5,
      "outputs": []
    },
    {
      "cell_type": "markdown",
      "metadata": {
        "id": "z1fv8LNZjIVL"
      },
      "source": [
        "The text can be partiallly reconstructed from the sequences by looking up the vocabulary. For example:"
      ]
    },
    {
      "cell_type": "code",
      "metadata": {
        "colab": {
          "base_uri": "https://localhost:8080/"
        },
        "id": "DaADwfvEAtJx",
        "outputId": "8fc9e195-c067-4de4-8dc0-25cfa1d5bbe9"
      },
      "source": [
        "print('Sequence:')\n",
        "print(X_train[0])\n",
        "print('Reconstructed:')\n",
        "print(tokenizer.sequences_to_texts(X_train[0:1])[0])"
      ],
      "execution_count": 6,
      "outputs": [
        {
          "output_type": "stream",
          "name": "stdout",
          "text": [
            "Sequence:\n",
            "[ 738  598 1142   30    1   27   19    1 1565   50    1   11    7    1\n",
            "  700  223   38  101   96   10    5    6    2    1  246    9    1    1\n",
            "    5  877    6    1   11    2 1216    1  302 1142    8    2    1    4\n",
            "  738  598 1142    3  417 1635    6  527  634    5    6 1565  671  138\n",
            "    2    1   24   33  636    1 1804    6    1    1    4   19    3    2\n",
            "  124  134    2  352   60  437    4    3    1    1  411   22    7    1\n",
            "    5  228 1368  407   60  437    4   25 1565  430    7  530   60   63\n",
            "    5   29   17    9   70    6   37    4   10  131  251   71    5    6\n",
            "   10  107   85   41  575    2  101   59   12   37   10    4   28  292\n",
            " 1383    1    5   12    3  907   38  102   63   10  466   71    5  102\n",
            "   63    1   10    3    5    6  102    1    6  164   10    3   38    2\n",
            "  182   59    4   19  152    1    1   30   44   98  257  221   27    3\n",
            "   96   64   23   33  253  123    5   26   24    1    6   13   21   32\n",
            "   84    7    1  354   24    1  124    4   10    3  408   41  112  499\n",
            "   41    2  105    5    6   41    2    1    4    2 1160    3    1    5\n",
            "    2  668    1    4    6   25   15  333    7   81 1079 1347   41    1\n",
            "    1   22    7    1    1    4    0    0    0    0    0    0    0    0\n",
            "    0    0    0    0    0    0    0    0    0    0    0    0    0    0\n",
            "    0    0    0    0    0    0    0    0    0    0    0    0    0    0\n",
            "    0    0    0    0    0    0    0    0    0    0    0    0    0    0\n",
            "    0    0    0    0    0    0    0    0    0    0    0    0    0    0\n",
            "    0    0    0    0    0    0    0    0    0    0    0    0    0    0\n",
            "    0    0    0    0    0    0    0    0    0    0    0    0    0    0\n",
            "    0    0    0    0    0    0    0    0    0    0    0    0    0    0\n",
            "    0    0    0    0    0    0    0    0    0    0    0    0    0    0\n",
            "    0    0    0    0    0    0    0    0    0    0    0    0    0    0\n",
            "    0    0    0    0    0    0    0    0    0    0    0    0    0    0\n",
            "    0    0    0    0    0    0    0    0    0    0    0    0    0    0\n",
            "    0    0    0    0    0    0    0    0    0    0    0    0    0    0\n",
            "    0    0    0    0    0    0    0    0    0    0    0    0    0    0\n",
            "    0    0    0    0    0    0    0    0    0    0    0    0    0    0\n",
            "    0    0    0    0    0    0    0    0    0    0    0    0    0    0\n",
            "    0    0    0    0    0    0    0    0    0    0    0    0    0    0\n",
            "    0    0    0    0    0    0    0    0    0    0    0    0    0    0\n",
            "    0    0    0    0    0    0    0    0    0    0    0    0    0    0\n",
            "    0    0    0    0    0    0    0    0    0    0    0    0    0    0\n",
            "    0    0    0    0    0    0    0    0]\n",
            "Reconstructed:\n",
            "red rock west ( <oov> )  <oov> cage get <oov> in a <oov> crime without at first know it , and the <oov> lead to <oov> <oov> , adventure and <oov> in the wild <oov> american west of the <oov> . red rock west be often brutal and sometimes hilarious , and cage pull off the <oov> with his usual <oov> wit and <oov> <oov> .  be the plot over the top ? yes . be <oov> <oov> perfect as a <oov> , almost likable killer ? yes . do cage stand a chance ? well , you have to watch and see . it never let up , and it take me by surprise the first time i see it . on second viewing <oov> , i be surprised at how well it hold up , how well <oov> it be , and how <oov> and funny it be at the same time .  director <oov> <oov> ( who also help write ) be know more for his tv work , but with <oov> and this film he show a <oov> hand with <oov> plot . it be save by its humor by the way , and by the <oov> . the bar be <oov> , the cop <oov> . and do not miss a really inspire cameo by <oov> <oov> as a <oov> <oov> . <oov> <oov> <oov> <oov> <oov> <oov> <oov> <oov> <oov> <oov> <oov> <oov> <oov> <oov> <oov> <oov> <oov> <oov> <oov> <oov> <oov> <oov> <oov> <oov> <oov> <oov> <oov> <oov> <oov> <oov> <oov> <oov> <oov> <oov> <oov> <oov> <oov> <oov> <oov> <oov> <oov> <oov> <oov> <oov> <oov> <oov> <oov> <oov> <oov> <oov> <oov> <oov> <oov> <oov> <oov> <oov> <oov> <oov> <oov> <oov> <oov> <oov> <oov> <oov> <oov> <oov> <oov> <oov> <oov> <oov> <oov> <oov> <oov> <oov> <oov> <oov> <oov> <oov> <oov> <oov> <oov> <oov> <oov> <oov> <oov> <oov> <oov> <oov> <oov> <oov> <oov> <oov> <oov> <oov> <oov> <oov> <oov> <oov> <oov> <oov> <oov> <oov> <oov> <oov> <oov> <oov> <oov> <oov> <oov> <oov> <oov> <oov> <oov> <oov> <oov> <oov> <oov> <oov> <oov> <oov> <oov> <oov> <oov> <oov> <oov> <oov> <oov> <oov> <oov> <oov> <oov> <oov> <oov> <oov> <oov> <oov> <oov> <oov> <oov> <oov> <oov> <oov> <oov> <oov> <oov> <oov> <oov> <oov> <oov> <oov> <oov> <oov> <oov> <oov> <oov> <oov> <oov> <oov> <oov> <oov> <oov> <oov> <oov> <oov> <oov> <oov> <oov> <oov> <oov> <oov> <oov> <oov> <oov> <oov> <oov> <oov> <oov> <oov> <oov> <oov> <oov> <oov> <oov> <oov> <oov> <oov> <oov> <oov> <oov> <oov> <oov> <oov> <oov> <oov> <oov> <oov> <oov> <oov> <oov> <oov> <oov> <oov> <oov> <oov> <oov> <oov> <oov> <oov> <oov> <oov> <oov> <oov> <oov> <oov> <oov> <oov> <oov> <oov> <oov> <oov> <oov> <oov> <oov> <oov> <oov> <oov> <oov> <oov> <oov> <oov> <oov> <oov> <oov> <oov> <oov> <oov> <oov> <oov> <oov> <oov> <oov> <oov> <oov> <oov> <oov> <oov> <oov> <oov> <oov> <oov> <oov> <oov> <oov> <oov> <oov> <oov> <oov> <oov> <oov> <oov> <oov> <oov> <oov> <oov> <oov> <oov> <oov> <oov> <oov> <oov> <oov> <oov> <oov> <oov> <oov> <oov> <oov> <oov> <oov> <oov> <oov> <oov>\n"
          ]
        }
      ]
    },
    {
      "cell_type": "markdown",
      "metadata": {
        "id": "Si3yQYa7j_aa"
      },
      "source": [
        "### Train-Validation split\n",
        "Let us split the training dataset to reserve some data for validation."
      ]
    },
    {
      "cell_type": "code",
      "metadata": {
        "id": "pw5DRwktli-e"
      },
      "source": [
        "from sklearn.model_selection import train_test_split\n",
        "X_train,  X_val, Y_train, Y_val = train_test_split(X_train, Y_train,\n",
        "                                                  test_size=.075, stratify=Y_train,\n",
        "                                                  shuffle=True,random_state=123)"
      ],
      "execution_count": 7,
      "outputs": []
    },
    {
      "cell_type": "markdown",
      "metadata": {
        "id": "UzIVh_RXkd_B"
      },
      "source": [
        "## Model Definition, Training and Evaluation"
      ]
    },
    {
      "cell_type": "markdown",
      "metadata": {
        "id": "KvgH6nkiknUr"
      },
      "source": [
        "### Preparing pretrained word embeddings\n",
        "We will use the GloVe word embeddings to initialize the input word embeddings. These embeddings are openly available at:\n",
        "\n",
        "https://nlp.stanford.edu/projects/glove/\n",
        "\n",
        "We will (downlad and) match each word in our vocabulary to the embedding vector provided for that word to form an embedding matrix. If that particular word/token is not present, it is randomly initialized."
      ]
    },
    {
      "cell_type": "code",
      "metadata": {
        "colab": {
          "base_uri": "https://localhost:8080/"
        },
        "id": "A5gqNcIio3sk",
        "outputId": "4dcb2cd7-3e50-44b4-c5dd-7af5a5ad8d73"
      },
      "source": [
        "import os\n",
        "\n",
        "embedding_dim = 100\n",
        "\n",
        "embedding_file_path = f'glove.6B.{embedding_dim}d.txt'\n",
        "\n",
        "if not os.path.exists(embedding_file_path):\n",
        "    !wget http://nlp.stanford.edu/data/glove.6B.zip\n",
        "    !unzip -q glove.6B.zip\n",
        "\n",
        "embeddings_index = {}\n",
        "with open(embedding_file_path, 'r', encoding=\"utf-8\") as f:\n",
        "    for line in tqdm(f):\n",
        "        word, coefs = line.split(maxsplit=1)\n",
        "        coefs = np.fromstring(coefs, \"f\", sep=\" \")\n",
        "        embeddings_index[word] = coefs\n",
        "\n",
        "print(\"\\nFound %s word vectors.\" % len(embeddings_index))\n",
        "\n",
        "embedding_matrix = np.random.uniform(size=(vocab_size, embedding_dim)).astype('float32')\n",
        "\n",
        "for i in range(vocab_size):\n",
        "    try:\n",
        "        embedding_matrix[i] = embeddings_index[tokenizer.index_word[i]]\n",
        "    except KeyError:\n",
        "        pass"
      ],
      "execution_count": 9,
      "outputs": [
        {
          "output_type": "stream",
          "name": "stderr",
          "text": [
            "400000it [00:14, 28156.79it/s]"
          ]
        },
        {
          "output_type": "stream",
          "name": "stdout",
          "text": [
            "\n",
            "Found 400000 word vectors.\n"
          ]
        },
        {
          "output_type": "stream",
          "name": "stderr",
          "text": [
            "\n"
          ]
        }
      ]
    },
    {
      "cell_type": "markdown",
      "metadata": {
        "id": "6hUDcEwVmm2J"
      },
      "source": [
        "### Simple RNN"
      ]
    },
    {
      "cell_type": "markdown",
      "metadata": {
        "id": "de7IwzR36y2w"
      },
      "source": [
        "First we will try to solve this problem with a simple RNN. The state update equation - \n",
        "\n",
        "$$\\mathbf{h}_{t+1} = \\tanh(\\mathbf{W}_h \\mathbf{h}_t + \\mathbf{W}_x \\mathbf{x}_t + \\mathbf{b} )$$\n",
        "\n",
        "Where,\n",
        "> $\\mathbf{h}_t$ is the state at step $t$ \\\\\n",
        "> $\\mathbf{x}_t$ is the input at step $t$ \\\\\n",
        "> $\\mathbf{W}_h$ is the recurrent kernel \\\\\n",
        "> $\\mathbf{W}_x$ is the input kernel \\\\\n",
        "> $\\mathbf{b}$ is the bias \\\\\n",
        "> $\\tanh$ is the activation function \\\\\n",
        "> $\\mathbf{h}_{t+1}$ is the state at step $t+1$ \\\\\n",
        "\n",
        "Classification is done based on the final state.\n",
        "\n",
        "Since this is a binary classification problem we sill use **accuracy** as the metric.\n"
      ]
    },
    {
      "cell_type": "markdown",
      "metadata": {
        "id": "yLbMypWRCRPC"
      },
      "source": [
        "#### Model definition and Training\n",
        "Embeddings are intialized with the pretrained embeddings. Padded (0 values) tokens are maked out. We will use the \"SimpleRNN\" layer for keras. The Adam optimizer with a moderate learning rate ($5\\times10^{-4}$) and gradient clipping is used. Binary crossentropy is used as loss function."
      ]
    },
    {
      "cell_type": "code",
      "metadata": {
        "colab": {
          "base_uri": "https://localhost:8080/"
        },
        "id": "IRNkdZZFI6le",
        "outputId": "de410d4f-4337-4ac9-af44-d4b4ad95c747"
      },
      "source": [
        "from tensorflow.keras import models, layers, initializers, optimizers, losses, metrics\n",
        "\n",
        "model_layers = []\n",
        "model_layers.append(layers.Embedding(vocab_size, \n",
        "                               embedding_dim, \n",
        "                               embeddings_initializer=initializers.Constant(embedding_matrix), \n",
        "                               mask_zero=True,\n",
        "                               input_shape=[max_len]))\n",
        "model_layers.append(layers.SimpleRNN(units=256,\n",
        "                                     activation='tanh', use_bias=True,\n",
        "                                     kernel_initializer='glorot_uniform',\n",
        "                                     recurrent_initializer='orthogonal',\n",
        "                                     bias_initializer='zeros'))\n",
        "model_layers.append(layers.Dense(1, activation=None))\n",
        "\n",
        "model = models.Sequential(model_layers, name='rnn_model',)\n",
        "\n",
        "loss = losses.BinaryCrossentropy(from_logits=True)\n",
        "acc = metrics.BinaryAccuracy(name='acc')\n",
        "optim = optimizers.Adam(learning_rate=5e-4, clipvalue=.5)\n",
        "\n",
        "model.compile(optimizer=optim, loss=loss, metrics=[acc])\n",
        "model.summary()"
      ],
      "execution_count": 13,
      "outputs": [
        {
          "output_type": "stream",
          "name": "stdout",
          "text": [
            "Model: \"rnn_model\"\n",
            "_________________________________________________________________\n",
            "Layer (type)                 Output Shape              Param #   \n",
            "=================================================================\n",
            "embedding_2 (Embedding)      (None, 512, 100)          200000    \n",
            "_________________________________________________________________\n",
            "simple_rnn_2 (SimpleRNN)     (None, 256)               91392     \n",
            "_________________________________________________________________\n",
            "dense_2 (Dense)              (None, 1)                 257       \n",
            "=================================================================\n",
            "Total params: 291,649\n",
            "Trainable params: 291,649\n",
            "Non-trainable params: 0\n",
            "_________________________________________________________________\n"
          ]
        }
      ]
    },
    {
      "cell_type": "markdown",
      "metadata": {
        "id": "sJ8WC7oeDMvx"
      },
      "source": [
        "Let's train the model."
      ]
    },
    {
      "cell_type": "code",
      "metadata": {
        "colab": {
          "base_uri": "https://localhost:8080/"
        },
        "id": "EbtRvD2nJHHt",
        "outputId": "12dcfb10-867e-46ad-c34c-9e8da24017a4"
      },
      "source": [
        "history_simple_rnn =model.fit(X_train, Y_train, batch_size=32, epochs=15, validation_data=(X_val,Y_val))"
      ],
      "execution_count": 14,
      "outputs": [
        {
          "output_type": "stream",
          "name": "stdout",
          "text": [
            "Epoch 1/15\n",
            "723/723 [==============================] - 291s 402ms/step - loss: 0.6857 - acc: 0.5470 - val_loss: 0.6381 - val_acc: 0.5920\n",
            "Epoch 2/15\n",
            "723/723 [==============================] - 277s 383ms/step - loss: 0.6412 - acc: 0.6044 - val_loss: 0.8291 - val_acc: 0.5643\n",
            "Epoch 3/15\n",
            "723/723 [==============================] - 284s 392ms/step - loss: 0.6305 - acc: 0.6160 - val_loss: 0.6573 - val_acc: 0.5776\n",
            "Epoch 4/15\n",
            "723/723 [==============================] - 292s 404ms/step - loss: 0.5795 - acc: 0.6760 - val_loss: 0.5874 - val_acc: 0.6117\n",
            "Epoch 5/15\n",
            "723/723 [==============================] - 297s 411ms/step - loss: 0.6242 - acc: 0.6098 - val_loss: 0.6400 - val_acc: 0.6624\n",
            "Epoch 6/15\n",
            "723/723 [==============================] - 279s 386ms/step - loss: 0.6468 - acc: 0.5760 - val_loss: 0.6448 - val_acc: 0.5547\n",
            "Epoch 7/15\n",
            "723/723 [==============================] - 286s 395ms/step - loss: 0.6241 - acc: 0.6160 - val_loss: 0.6602 - val_acc: 0.5280\n",
            "Epoch 8/15\n",
            "723/723 [==============================] - 283s 392ms/step - loss: 0.6153 - acc: 0.6244 - val_loss: 0.6176 - val_acc: 0.5872\n",
            "Epoch 9/15\n",
            "723/723 [==============================] - 279s 386ms/step - loss: 0.6279 - acc: 0.6067 - val_loss: 0.6589 - val_acc: 0.6048\n",
            "Epoch 10/15\n",
            "723/723 [==============================] - 276s 382ms/step - loss: 0.5889 - acc: 0.6586 - val_loss: 0.6622 - val_acc: 0.5792\n",
            "Epoch 11/15\n",
            "723/723 [==============================] - 272s 377ms/step - loss: 0.5928 - acc: 0.6525 - val_loss: 0.6529 - val_acc: 0.5813\n",
            "Epoch 12/15\n",
            "723/723 [==============================] - 270s 374ms/step - loss: 0.5907 - acc: 0.6599 - val_loss: 0.6014 - val_acc: 0.6128\n",
            "Epoch 13/15\n",
            "723/723 [==============================] - 269s 372ms/step - loss: 0.5731 - acc: 0.6772 - val_loss: 0.6789 - val_acc: 0.5376\n",
            "Epoch 14/15\n",
            "723/723 [==============================] - 273s 377ms/step - loss: 0.6060 - acc: 0.6329 - val_loss: 0.6555 - val_acc: 0.5893\n",
            "Epoch 15/15\n",
            "723/723 [==============================] - 273s 378ms/step - loss: 0.5511 - acc: 0.7017 - val_loss: 0.6753 - val_acc: 0.5797\n"
          ]
        }
      ]
    },
    {
      "cell_type": "markdown",
      "metadata": {
        "id": "u7W_I3yRDRYT"
      },
      "source": [
        "We get a final validation accuracy of 57.97% which is not very good. However, the real problem can be seen from the training curves:"
      ]
    },
    {
      "cell_type": "code",
      "metadata": {
        "colab": {
          "base_uri": "https://localhost:8080/",
          "height": 513
        },
        "id": "aV8ZwlWf0Ol3",
        "outputId": "52339455-58de-4b3b-d3a2-4e40bf57b269"
      },
      "source": [
        "import matplotlib.pyplot as plt\n",
        "\n",
        "plt.figure(figsize=[6,4])\n",
        "plt.plot(history_simple_rnn.history['loss'], marker= 'o', label='Training loss')\n",
        "plt.plot(history_simple_rnn.history['val_loss'], marker='^', label='Validation loss')\n",
        "_=plt.legend()\n",
        "\n",
        "plt.figure(figsize=[6,4])\n",
        "plt.plot(history_simple_rnn.history['acc'], marker= 'o', label='Training accuracy')\n",
        "plt.plot(history_simple_rnn.history['val_acc'], marker='^', label='Validation accuracy')\n",
        "_=plt.legend()"
      ],
      "execution_count": 33,
      "outputs": [
        {
          "output_type": "display_data",
          "data": {
            "text/plain": [
              "<Figure size 432x288 with 1 Axes>"
            ],
            "image/png": "[encoded data removed]"
          },
          "metadata": {
            "needs_background": "light"
          }
        },
        {
          "output_type": "display_data",
          "data": {
            "text/plain": [
              "<Figure size 432x288 with 1 Axes>"
            ],
            "image/png": "[encoded data removed]"
          },
          "metadata": {
            "needs_background": "light"
          }
        }
      ]
    },
    {
      "cell_type": "markdown",
      "metadata": {
        "id": "uY0_Q6JeDjpL"
      },
      "source": [
        "W see that we have pathological training curves with training and validation losses fluctating randomly and training and validation accuracies also showing random fluctation. This is due to the vanishing and exploding gradients which make optimizing this simple rnn over very long contexts (upto 512 time steps). So, to perform this task efficiently we need gated RNNs such as LSTM or GRUs."
      ]
    },
    {
      "cell_type": "markdown",
      "metadata": {
        "id": "EYR9BCMdEHGq"
      },
      "source": [
        "Next we go ahead and perform prediction on the test set."
      ]
    },
    {
      "cell_type": "code",
      "metadata": {
        "colab": {
          "base_uri": "https://localhost:8080/"
        },
        "id": "bbNXsvfqZ_7s",
        "outputId": "c1665080-93cf-4e5f-e462-3225fccbb320"
      },
      "source": [
        "loss_simple_rnn, acc_simple_rnn = model.evaluate(X_test, Y_test)\n",
        "print(f'Test accuracy for simple RNN = {acc_simple_rnn:0.3%}')"
      ],
      "execution_count": 15,
      "outputs": [
        {
          "output_type": "stream",
          "name": "stdout",
          "text": [
            "782/782 [==============================] - 23s 29ms/step - loss: 0.6794 - acc: 0.5759\n",
            "Test accuracy for simple RNN = 57.588%\n"
          ]
        }
      ]
    },
    {
      "cell_type": "markdown",
      "metadata": {
        "id": "1omwqjHzELkK"
      },
      "source": [
        "Like the validation set, the result on the test set is not very good."
      ]
    },
    {
      "cell_type": "markdown",
      "metadata": {
        "id": "2yZdQUigmh3k"
      },
      "source": [
        "### LSTM"
      ]
    },
    {
      "cell_type": "markdown",
      "metadata": {
        "id": "c9vLwRfdHNY5"
      },
      "source": [
        "Since we did not get a good result with a simple RNN, which is to be expected for long sequences, we will try to impliment our model using an LSTM based cell structure."
      ]
    },
    {
      "cell_type": "markdown",
      "metadata": {
        "id": "hW33nMdfHmcn"
      },
      "source": [
        "#### Model definition and Training\n",
        "Embeddings are intialized with the pretrained embeddings. Padded (0 values) tokens are maked out. We will use the \"LSTM\" layer from keras. The Adam optimizer with a moderate learning rate ($5\\times10^{-4}$). Binary crossentropy is used as loss function."
      ]
    },
    {
      "cell_type": "code",
      "metadata": {
        "colab": {
          "base_uri": "https://localhost:8080/"
        },
        "id": "JNcpbLoS4uKa",
        "outputId": "131246e0-034b-4bc9-b0a5-be172f2a4d5f"
      },
      "source": [
        "from tensorflow.keras import models, layers, initializers, optimizers, losses, metrics\n",
        "\n",
        "model_layers = []\n",
        "model_layers.append(layers.Embedding(vocab_size, \n",
        "                                     embedding_dim, \n",
        "                                     embeddings_initializer=initializers.Constant(embedding_matrix), \n",
        "                                     mask_zero=True,\n",
        "                                     input_shape=[max_len]))\n",
        "model_layers.append(layers.LSTM(units=128,\n",
        "                                activation='tanh', \n",
        "                                recurrent_activation='sigmoid',\n",
        "                                use_bias=True,\n",
        "                                kernel_initializer='glorot_uniform',\n",
        "                                recurrent_initializer='orthogonal',\n",
        "                                bias_initializer='zeros'))\n",
        "model_layers.append(layers.Dense(1, activation=None))\n",
        "\n",
        "model = models.Sequential(model_layers, name='lstm_model')\n",
        "\n",
        "loss = losses.BinaryCrossentropy(from_logits=True)\n",
        "acc = metrics.BinaryAccuracy(name='acc')\n",
        "optim = optimizers.Adam(learning_rate=5e-4)\n",
        "\n",
        "model.compile(optimizer=optim, loss=loss, metrics=[acc])\n",
        "model.summary()"
      ],
      "execution_count": 19,
      "outputs": [
        {
          "output_type": "stream",
          "name": "stdout",
          "text": [
            "Model: \"lstm_model\"\n",
            "_________________________________________________________________\n",
            "Layer (type)                 Output Shape              Param #   \n",
            "=================================================================\n",
            "embedding_4 (Embedding)      (None, 512, 100)          200000    \n",
            "_________________________________________________________________\n",
            "lstm_1 (LSTM)                (None, 128)               117248    \n",
            "_________________________________________________________________\n",
            "dense_4 (Dense)              (None, 1)                 129       \n",
            "=================================================================\n",
            "Total params: 317,377\n",
            "Trainable params: 317,377\n",
            "Non-trainable params: 0\n",
            "_________________________________________________________________\n"
          ]
        }
      ]
    },
    {
      "cell_type": "code",
      "metadata": {
        "colab": {
          "base_uri": "https://localhost:8080/"
        },
        "id": "qaRVgxeI8AXJ",
        "outputId": "79361110-4a29-4b7e-eb5d-86df78008745"
      },
      "source": [
        "history_lstm = model.fit(X_train, Y_train, batch_size=32, epochs=10, validation_data=(X_val,Y_val))"
      ],
      "execution_count": 20,
      "outputs": [
        {
          "output_type": "stream",
          "name": "stdout",
          "text": [
            "Epoch 1/10\n",
            "723/723 [==============================] - 18s 25ms/step - loss: 0.5968 - acc: 0.6422 - val_loss: 0.4456 - val_acc: 0.7989\n",
            "Epoch 2/10\n",
            "723/723 [==============================] - 17s 23ms/step - loss: 0.4025 - acc: 0.8159 - val_loss: 0.3854 - val_acc: 0.8320\n",
            "Epoch 3/10\n",
            "723/723 [==============================] - 16s 23ms/step - loss: 0.3173 - acc: 0.8623 - val_loss: 0.3038 - val_acc: 0.8672\n",
            "Epoch 4/10\n",
            "723/723 [==============================] - 16s 23ms/step - loss: 0.2821 - acc: 0.8808 - val_loss: 0.2942 - val_acc: 0.8757\n",
            "Epoch 5/10\n",
            "723/723 [==============================] - 16s 23ms/step - loss: 0.2491 - acc: 0.8965 - val_loss: 0.2946 - val_acc: 0.8741\n",
            "Epoch 6/10\n",
            "723/723 [==============================] - 16s 22ms/step - loss: 0.2306 - acc: 0.9055 - val_loss: 0.2735 - val_acc: 0.8885\n",
            "Epoch 7/10\n",
            "723/723 [==============================] - 17s 23ms/step - loss: 0.2100 - acc: 0.9139 - val_loss: 0.2715 - val_acc: 0.8896\n",
            "Epoch 8/10\n",
            "723/723 [==============================] - 17s 23ms/step - loss: 0.1944 - acc: 0.9210 - val_loss: 0.2818 - val_acc: 0.8843\n",
            "Epoch 9/10\n",
            "723/723 [==============================] - 16s 23ms/step - loss: 0.1769 - acc: 0.9290 - val_loss: 0.2861 - val_acc: 0.8869\n",
            "Epoch 10/10\n",
            "723/723 [==============================] - 16s 23ms/step - loss: 0.1614 - acc: 0.9368 - val_loss: 0.3108 - val_acc: 0.8848\n"
          ]
        }
      ]
    },
    {
      "cell_type": "markdown",
      "metadata": {
        "id": "l0TJBu5pH2Ly"
      },
      "source": [
        "We see that we get a good final validation accuracy of 88.48%. Next, let's look at the training curves."
      ]
    },
    {
      "cell_type": "code",
      "metadata": {
        "colab": {
          "base_uri": "https://localhost:8080/",
          "height": 516
        },
        "id": "WB24VKEnyxzO",
        "outputId": "5b9ca7d7-8134-4fbb-9068-cd93b151b2b9"
      },
      "source": [
        "import matplotlib.pyplot as plt\n",
        "\n",
        "plt.figure(figsize=[6,4])\n",
        "plt.plot(history_lstm.history['loss'], marker= 'o', label='Training loss')\n",
        "plt.plot(history_lstm.history['val_loss'], marker='^', label='Validation loss')\n",
        "_=plt.legend()\n",
        "\n",
        "plt.figure(figsize=[6,4])\n",
        "plt.plot(history_lstm.history['acc'], marker= 'o', label='Training accuracy')\n",
        "plt.plot(history_lstm.history['val_acc'], marker='^', label='Validation accuracy')\n",
        "_=plt.legend()"
      ],
      "execution_count": 32,
      "outputs": [
        {
          "output_type": "display_data",
          "data": {
            "text/plain": [
              "<Figure size 432x288 with 1 Axes>"
            ],
            "image/png": "[encoded data removed]"
          },
          "metadata": {
            "needs_background": "light"
          }
        },
        {
          "output_type": "display_data",
          "data": {
            "text/plain": [
              "<Figure size 432x288 with 1 Axes>"
            ],
            "image/png": "[encoded data removed]"
          },
          "metadata": {
            "needs_background": "light"
          }
        }
      ]
    },
    {
      "cell_type": "markdown",
      "metadata": {
        "id": "xU_MW090IJQ-"
      },
      "source": [
        "We see that, training and validation losses decrease in a well behaved manner and training and validation accuracies increase in a well behaved manner. They start to show signs of overfitting at around epoch 7. So we stop early at epoch 10.\n",
        "\n",
        "This good results are directly linked to the ability of LSTMs to retain information over long contexts, which is essential for summarizing the whole text. Also, due to the gated channels, gradient can flow back easily in the backward pass and we do not run into vanishing and exploding gradient problems."
      ]
    },
    {
      "cell_type": "markdown",
      "metadata": {
        "id": "NSLn0_rOIfCt"
      },
      "source": [
        "Now let's do the final evaluation on the test set."
      ]
    },
    {
      "cell_type": "code",
      "metadata": {
        "colab": {
          "base_uri": "https://localhost:8080/"
        },
        "id": "wbIrvC3z_O1y",
        "outputId": "ca93a6f9-4a0f-4b2a-962b-1befea9d3ce6"
      },
      "source": [
        "loss_lstm, acc_lstm= model.evaluate(X_test, Y_test)\n",
        "print(f'Test accuracy for LSTM = {acc_lstm:0.3%}')"
      ],
      "execution_count": 34,
      "outputs": [
        {
          "output_type": "stream",
          "name": "stdout",
          "text": [
            "782/782 [==============================] - 7s 9ms/step - loss: 0.2985 - acc: 0.8876\n",
            "Test accuracy for LSTM = 88.764%\n"
          ]
        }
      ]
    },
    {
      "cell_type": "markdown",
      "metadata": {
        "id": "lOFfyn38LGqi"
      },
      "source": [
        "We see that we get similar good accuracy on the test set.\n",
        "\n"
      ]
    },
    {
      "cell_type": "markdown",
      "metadata": {
        "id": "vt0hOtr8L3-e"
      },
      "source": [
        "# Task 2"
      ]
    },
    {
      "cell_type": "markdown",
      "metadata": {
        "id": "vDkyHfzPL-LR"
      },
      "source": [
        "## Preparing pretrained word embeddings\n",
        "We will use the GloVe word embeddings. These embeddings are openly available at:\n",
        "\n",
        "https://nlp.stanford.edu/projects/glove/\n",
        "\n",
        "We will (downlad and) create a dictionary of words mapping to their corresponding (NumPy) vector embeddings."
      ]
    },
    {
      "cell_type": "code",
      "metadata": {
        "colab": {
          "base_uri": "https://localhost:8080/"
        },
        "id": "T3Ae3t0ZMS9a",
        "outputId": "ae8abd01-fe77-47bc-b222-fd01994b6261"
      },
      "source": [
        "import os\n",
        "\n",
        "embedding_dim = 100\n",
        "\n",
        "embedding_file_path = f'glove.6B.{embedding_dim}d.txt'\n",
        "\n",
        "if not os.path.exists(embedding_file_path):\n",
        "    !wget http://nlp.stanford.edu/data/glove.6B.zip\n",
        "    !unzip -q glove.6B.zip\n",
        "\n",
        "embeddings_index = {}\n",
        "with open(embedding_file_path, 'r', encoding=\"utf-8\") as f:\n",
        "    for line in tqdm(f):\n",
        "        word, coefs = line.split(maxsplit=1)\n",
        "        coefs = np.fromstring(coefs, \"f\", sep=\" \")\n",
        "        embeddings_index[word] = coefs\n",
        "\n",
        "print(\"\\nFound %s word vectors.\" % len(embeddings_index))\n"
      ],
      "execution_count": 35,
      "outputs": [
        {
          "output_type": "stream",
          "name": "stderr",
          "text": [
            "400000it [00:14, 27909.56it/s]"
          ]
        },
        {
          "output_type": "stream",
          "name": "stdout",
          "text": [
            "\n",
            "Found 400000 word vectors.\n"
          ]
        },
        {
          "output_type": "stream",
          "name": "stderr",
          "text": [
            "\n"
          ]
        }
      ]
    },
    {
      "cell_type": "markdown",
      "metadata": {
        "id": "OvKZWoJ7R6vF"
      },
      "source": [
        "## Cosine Similarity"
      ]
    },
    {
      "cell_type": "markdown",
      "metadata": {
        "id": "ABc68BcKY6uA"
      },
      "source": [
        "We will first define a function to calculate cosine similarity between word pairs."
      ]
    },
    {
      "cell_type": "code",
      "metadata": {
        "id": "-JsVJztoNkJC"
      },
      "source": [
        "\n",
        "def cosine_similarity(word1, word2):\n",
        "    embedding1 = embeddings_index[word1]\n",
        "    embedding2 = embeddings_index[word2]\n",
        "\n",
        "    norm1 = np.linalg.norm(embedding1)\n",
        "    norm2 = np.linalg.norm(embedding2)\n",
        "    dotp = np.dot(embedding1,embedding2)\n",
        "\n",
        "    return dotp/(norm1*norm2)"
      ],
      "execution_count": 38,
      "outputs": []
    },
    {
      "cell_type": "markdown",
      "metadata": {
        "id": "sKkHbfVOZChK"
      },
      "source": [
        "Let us now test a few word pairs."
      ]
    },
    {
      "cell_type": "code",
      "metadata": {
        "colab": {
          "base_uri": "https://localhost:8080/"
        },
        "id": "capXXHZWOJDj",
        "outputId": "5fdb8f86-4ede-442f-dc69-65d1599ca042"
      },
      "source": [
        "word_pairs = [\n",
        "    ('create','make'),\n",
        "    ('this', 'is'),\n",
        "    ('earth', 'moon'),\n",
        "    ('build', 'destroy'),\n",
        "    ('this', 'at'),\n",
        "    ('red', 'blue'),\n",
        "    ('round','square'),\n",
        "    ('good', 'prolong'),\n",
        "    ('robot', 'omnipresent'),\n",
        "    ('africa', 'mormon'),\n",
        "    ('prometheus','bowl'),\n",
        "    ('procrastinate','hi'),\n",
        "    ('humanoid', 'gaslight'),\n",
        "    ('arachnid', 'bounce')\n",
        "]\n",
        "\n",
        "for word1, word2 in word_pairs:\n",
        "    print(f'Cosine similarity between \"{word1}\" and \"{word2}\" = {cosine_similarity(word1,word2):0.5f}')"
      ],
      "execution_count": 71,
      "outputs": [
        {
          "output_type": "stream",
          "name": "stdout",
          "text": [
            "Cosine similarity between \"create\" and \"make\" = 0.76462\n",
            "Cosine similarity between \"this\" and \"is\" = 0.85617\n",
            "Cosine similarity between \"earth\" and \"moon\" = 0.68764\n",
            "Cosine similarity between \"build\" and \"destroy\" = 0.60375\n",
            "Cosine similarity between \"this\" and \"at\" = 0.67490\n",
            "Cosine similarity between \"red\" and \"blue\" = 0.84351\n",
            "Cosine similarity between \"round\" and \"square\" = 0.31396\n",
            "Cosine similarity between \"good\" and \"prolong\" = 0.16875\n",
            "Cosine similarity between \"robot\" and \"omnipresent\" = 0.09539\n",
            "Cosine similarity between \"africa\" and \"mormon\" = 0.04618\n",
            "Cosine similarity between \"prometheus\" and \"bowl\" = 0.09001\n",
            "Cosine similarity between \"procrastinate\" and \"hi\" = -0.08090\n",
            "Cosine similarity between \"humanoid\" and \"gaslight\" = -0.19878\n",
            "Cosine similarity between \"arachnid\" and \"bounce\" = -0.19594\n"
          ]
        }
      ]
    },
    {
      "cell_type": "markdown",
      "metadata": {
        "id": "-Y9iHKvNg5d1"
      },
      "source": [
        "## Dissimilarity based on distance"
      ]
    },
    {
      "cell_type": "markdown",
      "metadata": {
        "id": "_ORkF-IPhG4v"
      },
      "source": [
        "We will define a normalized dissimilarity metric based on the distance between the word pairs in the eueclidean distance of their coresponding embeddings in the embedding space. However, distances are unbounded measures and without any context they are hard to interpret. So we first look at the distribution of the distances."
      ]
    },
    {
      "cell_type": "markdown",
      "metadata": {
        "id": "tB1By1vLhoLk"
      },
      "source": [
        "We randomly sample 100000 pairs of words and create a histogram of their distances."
      ]
    },
    {
      "cell_type": "code",
      "metadata": {
        "id": "tZ04CRKMZxWj"
      },
      "source": [
        "words = np.array(list(embeddings_index.keys()))\n",
        "random_pairs = np.random.randint(low=0,high=len(words),size=(100000,2),dtype=int)\n",
        "sampled_distances = np.array(list(np.linalg.norm(embeddings_index[words[i1]]-embeddings_index[words[i2]]) \n",
        "                            for i1, i2 in random_pairs))"
      ],
      "execution_count": 88,
      "outputs": []
    },
    {
      "cell_type": "code",
      "metadata": {
        "colab": {
          "base_uri": "https://localhost:8080/",
          "height": 265
        },
        "id": "0RbTW7LYbkRc",
        "outputId": "5f243e6b-9e80-4c8d-aa7e-abc1173c7448"
      },
      "source": [
        "_=plt.hist(sampled_distances,bins=100)"
      ],
      "execution_count": 89,
      "outputs": [
        {
          "output_type": "display_data",
          "data": {
            "text/plain": [
              "<Figure size 432x288 with 1 Axes>"
            ],
            "image/png": "[encoded data removed]"
          },
          "metadata": {
            "needs_background": "light"
          }
        }
      ]
    },
    {
      "cell_type": "markdown",
      "metadata": {
        "id": "6nPwYjEghxot"
      },
      "source": [
        "We see that we get a bell shaped curve which should be related to Chi-squred distribution. However, we will not try to fit/assume any distribution for word pairs, rather directly use the emperical distribution of the sampled pairs.\n",
        "\n",
        "We will define a dissimilarity metric based on the percentile of the distance between a word pair in the distribution of distances.\n",
        "\n",
        "**Interpretation of this dissimilarity metric**: A dissimilarity of 0.9 would mean that 90% of all word pairs have smaller or equal distances w.r.t. the given word pair in the embedding space."
      ]
    },
    {
      "cell_type": "code",
      "metadata": {
        "id": "clOoM4-vfarX"
      },
      "source": [
        "from scipy.stats import percentileofscore\n",
        "\n",
        "def distance_dissimilarity(word1, word2):\n",
        "    distance = np.linalg.norm(embeddings_index[word1]-embeddings_index[word2])\n",
        "    return percentileofscore(sampled_distances, distance)/100.\n"
      ],
      "execution_count": 90,
      "outputs": []
    },
    {
      "cell_type": "markdown",
      "metadata": {
        "id": "EPf9WfU6jI3F"
      },
      "source": [
        "Now let us test the dissimilarity metric on some word pairs."
      ]
    },
    {
      "cell_type": "code",
      "metadata": {
        "colab": {
          "base_uri": "https://localhost:8080/"
        },
        "id": "rSDNGkBDgW9u",
        "outputId": "b76d4cb5-ddae-4f7b-c24b-d634729bd822"
      },
      "source": [
        "word_pairs = [\n",
        "    ('create','make'),\n",
        "    ('this', 'is'),\n",
        "    ('earth', 'moon'),\n",
        "    ('build', 'destroy'),\n",
        "    ('this', 'at'),\n",
        "    ('red', 'blue'),\n",
        "    ('round','square'),\n",
        "    ('good', 'prolong'),\n",
        "    ('robot', 'omnipresent'),\n",
        "    ('africa', 'mormon'),\n",
        "    ('prometheus','bowl'),\n",
        "    ('procrastinate','hi'),\n",
        "    ('humanoid', 'gaslight'),\n",
        "    ('arachnid', 'bounce')\n",
        "]\n",
        "\n",
        "for word1, word2 in word_pairs:\n",
        "    print(f'Dissimilarity between \"{word1}\" and \"{word2}\" = {distance_dissimilarity(word1,word2):0.5f}')"
      ],
      "execution_count": 91,
      "outputs": [
        {
          "output_type": "stream",
          "name": "stdout",
          "text": [
            "Dissimilarity between \"create\" and \"make\" = 0.11334\n",
            "Dissimilarity between \"this\" and \"is\" = 0.02532\n",
            "Dissimilarity between \"earth\" and \"moon\" = 0.32941\n",
            "Dissimilarity between \"build\" and \"destroy\" = 0.37435\n",
            "Dissimilarity between \"this\" and \"at\" = 0.40823\n",
            "Dissimilarity between \"red\" and \"blue\" = 0.03834\n",
            "Dissimilarity between \"round\" and \"square\" = 0.91717\n",
            "Dissimilarity between \"good\" and \"prolong\" = 0.84805\n",
            "Dissimilarity between \"robot\" and \"omnipresent\" = 0.75218\n",
            "Dissimilarity between \"africa\" and \"mormon\" = 0.97999\n",
            "Dissimilarity between \"prometheus\" and \"bowl\" = 0.97595\n",
            "Dissimilarity between \"procrastinate\" and \"hi\" = 0.95641\n",
            "Dissimilarity between \"humanoid\" and \"gaslight\" = 0.97877\n",
            "Dissimilarity between \"arachnid\" and \"bounce\" = 0.71977\n"
          ]
        }
      ]
    },
    {
      "cell_type": "markdown",
      "metadata": {
        "id": "OOZUbSjkjmqc"
      },
      "source": [
        "We see that this dissimilarity metric does indeed convey the opposite sense of the similarity metric."
      ]
    }
  ]
}